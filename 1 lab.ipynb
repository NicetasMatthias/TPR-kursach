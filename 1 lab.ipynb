{
 "cells": [
  {
   "cell_type": "code",
   "execution_count": 1,
   "id": "enclosed-authorization",
   "metadata": {},
   "outputs": [
    {
     "name": "stdout",
     "output_type": "stream",
     "text": [
      "[ 0.00e+00]\n",
      "\n",
      "[ 1.00e+00]\n",
      "\n",
      "[ 2.00e+00]\n",
      "\n",
      "[ 3.00e+00]\n",
      "\n",
      "[ 5.00e+00]\n",
      "\n",
      "[ 2.00e+00]\n",
      "\n",
      "[ 6.38e+02]\n",
      "\n"
     ]
    }
   ],
   "source": [
    "from cvxopt.modeling import variable,op\n",
    "start = 6\n",
    "s = [1,6,2,1,7,2]\n",
    "\n",
    "d1 = variable(1)\n",
    "d2 = variable(1)\n",
    "d3 = variable(1)\n",
    "d4 = variable(1)\n",
    "d5 = variable(1)\n",
    "d6 = variable(1)\n",
    "\n",
    "s1 = (start+d1>=s[0])                     #условия соответствия спросу\n",
    "s2 = (start+d1-s[0]+d2>=s[1])\n",
    "s3 = (start+d1-s[0]+d2-s[1]+d3>=s[2])\n",
    "s4 = (start+d1-s[0]+d2-s[1]+d3-s[2]+d4>=s[3])\n",
    "s5 = (start+d1-s[0]+d2-s[1]+d3-s[2]+d4-s[3]+d5>=s[4])\n",
    "s6 = (start+d1-s[0]+d2-s[1]+d3-s[2]+d4-s[3]+d5-s[4]+d6>=s[5])\n",
    "spros = [s1,s2,s3,s4,s5,s6]\n",
    "\n",
    "dmz1 = (d1 >= 0) #условие неотрицательного привоза\n",
    "dmz2 = (d2 >= 0)\n",
    "dmz3 = (d3 >= 0)\n",
    "dmz4 = (d4 >= 0)\n",
    "dmz5 = (d5 >= 0)\n",
    "dmz6 = (d6 >= 0)\n",
    "dmz = [dmz1,dmz2,dmz3,dmz4,dmz5,dmz6]\n",
    "\n",
    "dlf1 = (d1 <= 5)  #условие привоза не большего 5\n",
    "dlf2 = (d2 <= 5)\n",
    "dlf3 = (d3 <= 5)\n",
    "dlf4 = (d4 <= 5)\n",
    "dlf5 = (d5 <= 5)\n",
    "dlf6 = (d6 <= 5)\n",
    "dlf = [dlf1,dlf2,dlf3,dlf4,dlf5,dlf6]\n",
    "\n",
    "#obj = (58*d1+50*d2+42*d3+34*d4+26*d5+18*d6+50*bool(d1)+50*bool(d2)+50*bool(d3)+50*bool(d3)+50*bool(d5)+50*bool(d6))\n",
    "obj = (58*d1+50*d2+42*d3+34*d4+26*d5+18*d6+50*(bool(d1)+bool(d2)+bool(d3)+bool(d3)+bool(d5)+bool(d6))+start*start*8-40*s[0]-32*s[1]-24*s[2]-16*s[3]-8*s[4])\n",
    "\n",
    "\n",
    "lp = op(obj,spros+dmz+dlf)\n",
    "#lp = op(obj,[s1,s2,s3,s4,s5,s6,dmz1,dmz2,dmz3,dmz4,dmz5,dmz6,dlf1,dlf2,dlf3,dlf4,dlf5,dlf6])\n",
    "lp.solve(solver='glpk')\n",
    "lp.status\n",
    "\n",
    "#print(-lp.objective.value())\n",
    "print(d1.value)\n",
    "print(d2.value)\n",
    "print(d3.value)\n",
    "print(d4.value)\n",
    "print(d5.value)\n",
    "print(d6.value)\n",
    "print(lp.objective.value())"
   ]
  },
  {
   "cell_type": "code",
   "execution_count": null,
   "id": "severe-thickness",
   "metadata": {},
   "outputs": [],
   "source": []
  },
  {
   "cell_type": "code",
   "execution_count": null,
   "id": "civil-recruitment",
   "metadata": {},
   "outputs": [],
   "source": []
  },
  {
   "cell_type": "code",
   "execution_count": null,
   "id": "handy-second",
   "metadata": {},
   "outputs": [],
   "source": []
  },
  {
   "cell_type": "code",
   "execution_count": null,
   "id": "exterior-replacement",
   "metadata": {},
   "outputs": [],
   "source": []
  },
  {
   "cell_type": "code",
   "execution_count": null,
   "id": "large-moldova",
   "metadata": {},
   "outputs": [],
   "source": []
  }
 ],
 "metadata": {
  "kernelspec": {
   "display_name": "Python 3",
   "language": "python",
   "name": "python3"
  },
  "language_info": {
   "codemirror_mode": {
    "name": "ipython",
    "version": 3
   },
   "file_extension": ".py",
   "mimetype": "text/x-python",
   "name": "python",
   "nbconvert_exporter": "python",
   "pygments_lexer": "ipython3",
   "version": "3.8.5"
  }
 },
 "nbformat": 4,
 "nbformat_minor": 5
}
